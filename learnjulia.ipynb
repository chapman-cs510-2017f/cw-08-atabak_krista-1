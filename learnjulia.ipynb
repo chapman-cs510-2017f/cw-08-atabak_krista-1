{
 "cells": [
  {
   "cell_type": "markdown",
   "metadata": {
    "collapsed": false
   },
   "source": [
    "## Learn Julia :\n",
    "#### Krista & Atabak"
   ]
  },
  {
   "cell_type": "code",
   "execution_count": 0,
   "metadata": {
    "collapsed": false
   },
   "outputs": [
   ],
   "source": [
    "#Comments use the pound sign\n",
    "#= multiple line comments\n",
    "    use '#=' at the beginning and\n",
    "    '=#' at the end\n",
    "=#\n",
    "x = 1 #Assignment uses the equal sign. Variables are not declared before assignment\n",
    "myStr = \"Hello World!\" #Strings use double quotes\n",
    "myChar = '2' #characters use single quotes\n",
    "myBool = true\n",
    "println(\"$x $myStr $myChar $myBool\") #println() includes newline character after output\n",
    "print(\"Goodbye.\")"
   ]
  },
  {
   "cell_type": "markdown",
   "metadata": {
    "collapsed": false
   },
   "source": [
    "#### Data Types:\n",
    "    Number\n",
    "        Real\n",
    "            AbstractFloat\n",
    "            Integer\n",
    "                Bool\n",
    "            Irrational\n",
    "            Rational\n",
    "        Complex\n",
    "        \n",
    "    AbstractString\n",
    "        String\n",
    "        \n",
    "    Char\n",
    "    Tuple\n",
    "    \n",
    "    AbstractArray\n",
    "        DenseArray\n",
    "            Array\n",
    "            \n",
    "    Associative\n",
    "        Dict\n",
    "        \n",
    "    Base.AbstractSet\n",
    "        Set\n",
    "\n"
   ]
  },
  {
   "cell_type": "code",
   "execution_count": 2,
   "metadata": {
    "collapsed": false
   },
   "outputs": [
    {
     "name": "stdout",
     "output_type": "stream",
     "text": [
      "true, false, true, true"
     ]
    }
   ],
   "source": [
    "bool1 = (2 > 1)\n",
    "bool2 = true\n",
    "print(bool1, \", $(!bool1 && bool2), $(bool1 || bool2), $(bool1 <= bool2)\")\n"
   ]
  },
  {
   "cell_type": "code",
   "execution_count": 3,
   "metadata": {
    "collapsed": false
   },
   "outputs": [
    {
     "name": "stdout",
     "output_type": "stream",
     "text": [
      "x = 9.969604401089358, y = -0.42857142857142855, z = 0.42857142857142855"
     ]
    }
   ],
   "source": [
    "a = 0.1\n",
    "x = a + pi^2 #for Power use ^\n",
    "y = -3/7\n",
    "z = 7\\3\n",
    "print(\"x = $x, y = $y, z = $z\") #all are Float64"
   ]
  },
  {
   "cell_type": "markdown",
   "metadata": {
    "collapsed": false
   },
   "source": [
    "#### control structures:\n",
    " * Conditional Evaluation: if-elseif-else and ?: (ternary operator).\n",
    " * Short-Circuit Evaluation: &&, || and chained comparisons.\n",
    " * Repeated Evaluation: Loops: while and for."
   ]
  },
  {
   "cell_type": "code",
   "execution_count": 4,
   "metadata": {
    "collapsed": false
   },
   "outputs": [
    {
     "name": "stdout",
     "output_type": "stream",
     "text": [
      "a is not greater than b"
     ]
    }
   ],
   "source": [
    "a = 1\n",
    "b = 2\n",
    "if a > b\n",
    "    print(\"a is greater than b\")\n",
    "else\n",
    "    print(\"a is not greater than b\")\n",
    "end"
   ]
  },
  {
   "cell_type": "code",
   "execution_count": 5,
   "metadata": {
    "collapsed": false
   },
   "outputs": [
    {
     "name": "stdout",
     "output_type": "stream",
     "text": [
      "0\n"
     ]
    },
    {
     "name": "stdout",
     "output_type": "stream",
     "text": [
      "1\n",
      "2\n",
      "3\n",
      "4\n",
      "5\n",
      "6\n",
      "7\n",
      "8\n",
      "9\n"
     ]
    }
   ],
   "source": [
    "n = 0\n",
    "while n < 10\n",
    "    println(n)\n",
    "    n += 1\n",
    "end\n"
   ]
  },
  {
   "cell_type": "markdown",
   "metadata": {
    "collapsed": false
   },
   "source": [
    "#### differences between Python and julia:\n",
    " * Similarities:\n",
    "     * No need to define variables with a type.\n",
    "     * Syntax is intuitive and easy to read.\n",
    " * Differences:\n",
    "     * Julia is not object oriented.\n",
    "     * Julia has a multiple dispatch inferential type system -type of variable and such can be restricted, but are infered otherwise.\n",
    "     * Julia has more built-in mathematical functions and constants.\n",
    "     * Julia is like matlab.\n"
   ]
  },
  {
   "cell_type": "code",
   "execution_count": 6,
   "metadata": {
    "collapsed": false
   },
   "outputs": [
    {
     "name": "stdout",
     "output_type": "stream",
     "text": [
      "1 1 2 3 5 8 13 21 34 55 89 144 233 377 610 987 1597 2584 4181 6765 10946 17711 28657 46368 75025 121393 196418 317811 514229 832040 1346269 2178309 3524578 "
     ]
    },
    {
     "name": "stdout",
     "output_type": "stream",
     "text": [
      "5702887 "
     ]
    },
    {
     "name": "stdout",
     "output_type": "stream",
     "text": [
      "9227465 "
     ]
    },
    {
     "name": "stdout",
     "output_type": "stream",
     "text": [
      "14930352 24157817 "
     ]
    },
    {
     "name": "stdout",
     "output_type": "stream",
     "text": [
      "39088169 "
     ]
    },
    {
     "name": "stdout",
     "output_type": "stream",
     "text": [
      "63245986 "
     ]
    },
    {
     "name": "stdout",
     "output_type": "stream",
     "text": [
      "102334155 "
     ]
    },
    {
     "name": "stdout",
     "output_type": "stream",
     "text": [
      "165580141 "
     ]
    },
    {
     "name": "stdout",
     "output_type": "stream",
     "text": [
      "267914296 "
     ]
    },
    {
     "name": "stdout",
     "output_type": "stream",
     "text": [
      "433494437 "
     ]
    },
    {
     "name": "stdout",
     "output_type": "stream",
     "text": [
      "701408733 1134903170 "
     ]
    },
    {
     "name": "stdout",
     "output_type": "stream",
     "text": [
      "1836311903 "
     ]
    },
    {
     "name": "stdout",
     "output_type": "stream",
     "text": [
      "2971215073 "
     ]
    },
    {
     "name": "stdout",
     "output_type": "stream",
     "text": [
      "4807526976 7778742049 "
     ]
    },
    {
     "name": "stdout",
     "output_type": "stream",
     "text": [
      "12586269025 "
     ]
    }
   ],
   "source": [
    "\n",
    "function fib(n)\n",
    "    if n == 0\n",
    "        return 0\n",
    "    elseif n == 1\n",
    "        return 1\n",
    "    else\n",
    "        return fib(n-1)+fib(n-2)\n",
    "    end\n",
    "end\n",
    "for i = 1:100\n",
    "    print(fib(i),\" \")\n",
    "end"
   ]
  },
  {
   "cell_type": "code",
   "execution_count": 0,
   "metadata": {
    "collapsed": false
   },
   "outputs": [
   ],
   "source": [
   ]
  }
 ],
 "metadata": {
  "kernelspec": {
   "display_name": "Julia",
   "language": "julia",
   "name": "julia"
  },
  "language_info": {
   "file_extension": ".jl",
   "mimetype": "application/julia",
   "name": "julia",
   "version": "0.6.0"
  }
 },
 "nbformat": 4,
 "nbformat_minor": 0
}