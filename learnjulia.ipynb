{
 "cells": [
  {
   "cell_type": "markdown",
   "metadata": {
    "collapsed": false
   },
   "source": [
    "## Learn Julia :\n",
    "#### Krista & Atabak"
   ]
  },
  {
   "cell_type": "code",
   "execution_count": 1,
   "metadata": {
    "collapsed": false
   },
   "outputs": [
    {
     "name": "stdout",
     "output_type": "stream",
     "text": [
      "1 Hello World! 2 true\n"
     ]
    },
    {
     "name": "stdout",
     "output_type": "stream",
     "text": [
      "Goodbye."
     ]
    }
   ],
   "source": [
    "#Comments use the pound sign\n",
    "#= multiple line comments\n",
    "    use '#=' at the beginning and\n",
    "    '=#' at the end\n",
    "=#\n",
    "x = 1 #Assignment uses the equal sign. Variables are not declared before assignment\n",
    "myStr = \"Hello World!\" #Strings use double quotes\n",
    "myChar = '2' #characters use single quotes\n",
    "myBool = true\n",
    "println(\"$x $myStr $myChar $myBool\") #println() includes newline character after output\n",
    "print(\"Goodbye.\")"
   ]
  },
  {
   "cell_type": "markdown",
   "metadata": {
    "collapsed": false
   },
   "source": [
    "#### Data Types:\n",
    "    Number\n",
    "        Real\n",
    "            AbstractFloat\n",
    "            Integer\n",
    "                Bool\n",
    "            Irrational\n",
    "            Rational\n",
    "        Complex\n",
    "        \n",
    "    AbstractString\n",
    "        String\n",
    "        \n",
    "    Char\n",
    "    Tuple\n",
    "    \n",
    "    AbstractArray\n",
    "        DenseArray\n",
    "            Array\n",
    "            \n",
    "    Associative\n",
    "        Dict\n",
    "        \n",
    "    Base.AbstractSet\n",
    "        Set\n",
    "\n"
   ]
  },
  {
   "cell_type": "code",
   "execution_count": 2,
   "metadata": {
    "collapsed": false
   },
   "outputs": [
    {
     "name": "stdout",
     "output_type": "stream",
     "text": [
      "true, false, true, true"
     ]
    }
   ],
   "source": [
    "bool1 = (2 > 1)\n",
    "bool2 = true\n",
    "print(bool1, \", $(!bool1 && bool2), $(bool1 || bool2), $(bool1 <= bool2)\")\n"
   ]
  },
  {
   "cell_type": "code",
   "execution_count": 3,
   "metadata": {
    "collapsed": false
   },
   "outputs": [
    {
     "name": "stdout",
     "output_type": "stream",
     "text": [
      "x = 9.969604401089358, y = -0.42857142857142855, z = 0.42857142857142855"
     ]
    }
   ],
   "source": [
    "a = 0.1\n",
    "x = a + pi^2 #for Power use ^\n",
    "y = -3/7\n",
    "z = 7\\3\n",
    "print(\"x = $x, y = $y, z = $z\") #all are Float64"
   ]
  },
  {
   "cell_type": "markdown",
   "metadata": {
    "collapsed": false
   },
   "source": [
    "#### control structures:\n",
    " * Conditional Evaluation: if-elseif-else and ?: (ternary operator).\n",
    " * Short-Circuit Evaluation: &&, || and chained comparisons.\n",
    " * Repeated Evaluation: Loops: while and for."
   ]
  },
  {
   "cell_type": "code",
   "execution_count": 4,
   "metadata": {
    "collapsed": false
   },
   "outputs": [
    {
     "name": "stdout",
     "output_type": "stream",
     "text": [
      "a is not greater than b"
     ]
    }
   ],
   "source": [
    "a = 1\n",
    "b = 2\n",
    "if a > b\n",
    "    print(\"a is greater than b\")\n",
    "else\n",
    "    print(\"a is not greater than b\")\n",
    "end"
   ]
  },
  {
   "cell_type": "code",
   "execution_count": 5,
   "metadata": {
    "collapsed": false
   },
   "outputs": [
    {
     "name": "stdout",
     "output_type": "stream",
     "text": [
      "0\n"
     ]
    },
    {
     "name": "stdout",
     "output_type": "stream",
     "text": [
      "1\n",
      "2\n",
      "3\n",
      "4\n",
      "5\n",
      "6\n",
      "7\n",
      "8\n",
      "9\n"
     ]
    }
   ],
   "source": [
    "n = 0\n",
    "while n < 10\n",
    "    println(n)\n",
    "    n += 1\n",
    "end\n"
   ]
  },
  {
   "cell_type": "markdown",
   "metadata": {
    "collapsed": false
   },
   "source": [
    "#### differences between Python and julia:\n",
    " * Similarities:\n",
    "     * No need to define variables with a type.\n",
    "     * Syntax is intuitive and easy to read.\n",
    " * Differences:\n",
    "     * Julia is not object oriented.\n",
    "     * Julia has a multiple dispatch inferential type system -type of variable and such can be restricted, but are infered otherwise.\n",
    "     * Julia has more built-in mathematical functions and constants.\n",
    "     * Julia is like matlab.\n"
   ]
  },
  {
   "cell_type": "code",
   "execution_count": 6,
   "metadata": {
    "collapsed": false
   },
   "outputs": [
    {
     "name": "stdout",
     "output_type": "stream",
     "text": [
      "1 1 2 3 5 8 13 21 34 55 89 144 233 377 610 987 1597 2584 4181 6765 10946 17711 28657 46368 75025 121393 196418 317811 514229 832040 1346269 2178309 3524578 "
     ]
    },
    {
     "name": "stdout",
     "output_type": "stream",
     "text": [
      "5702887 "
     ]
    },
    {
     "name": "stdout",
     "output_type": "stream",
     "text": [
      "9227465 "
     ]
    },
    {
     "name": "stdout",
     "output_type": "stream",
     "text": [
      "14930352 "
     ]
    },
    {
     "name": "stdout",
     "output_type": "stream",
     "text": [
      "24157817 "
     ]
    },
    {
     "name": "stdout",
     "output_type": "stream",
     "text": [
      "39088169 "
     ]
    },
    {
     "name": "stdout",
     "output_type": "stream",
     "text": [
      "63245986 "
     ]
    },
    {
     "name": "stdout",
     "output_type": "stream",
     "text": [
      "102334155 "
     ]
    },
    {
     "name": "stdout",
     "output_type": "stream",
     "text": [
      "165580141 "
     ]
    },
    {
     "name": "stdout",
     "output_type": "stream",
     "text": [
      "267914296 "
     ]
    },
    {
     "name": "stdout",
     "output_type": "stream",
     "text": [
      "433494437 "
     ]
    },
    {
     "name": "stdout",
     "output_type": "stream",
     "text": [
      "701408733 1134903170 "
     ]
    },
    {
     "name": "stdout",
     "output_type": "stream",
     "text": [
      "1836311903 "
     ]
    },
    {
     "name": "stdout",
     "output_type": "stream",
     "text": [
      "2971215073 "
     ]
    },
    {
     "name": "stdout",
     "output_type": "stream",
     "text": [
      "4807526976 "
     ]
    },
    {
     "name": "stdout",
     "output_type": "stream",
     "text": [
      "7778742049 "
     ]
    },
    {
     "name": "stdout",
     "output_type": "stream",
     "text": [
      "12586269025 "
     ]
    },
    {
     "name": "stdout",
     "output_type": "stream",
     "text": [
      "20365011074 "
     ]
    },
    {
     "name": "stdout",
     "output_type": "stream",
     "text": [
      "32951280099 "
     ]
    }
   ],
   "source": [
    "\n",
    "function fib(n)\n",
    "    if n == 0\n",
    "        return 0\n",
    "    elseif n == 1\n",
    "        return 1\n",
    "    else\n",
    "        return fib(n-1)+fib(n-2)\n",
    "    end\n",
    "end\n",
    "for i = 1:100\n",
    "    print(fib(i),\" \")\n",
    "end"
   ]
  },
  {
   "cell_type": "markdown",
   "metadata": {
    "collapsed": false
   },
   "source": [
    "#### Task 4"
   ]
  },
  {
   "cell_type": "code",
   "execution_count": 5,
   "metadata": {
    "collapsed": false
   },
   "outputs": [
    {
     "data": {
      "text/markdown": [
       "juliamap(c,z; maxiter) :   Implement the iteration algorithm for a Julia Set.\n",
       "\n",
       "**Returns:** integer number of iterations, or zero if the iteration never diverges.\n",
       "\n",
       "  * c : complex constant definining the set\n",
       "  * z : complex number being iterated\n",
       "  * maxiter : maximum iteration number, defaults to 100\n"
      ]
     },
     "execution_count": 5,
     "metadata": {
     },
     "output_type": "execute_result"
    }
   ],
   "source": [
    "\"\"\"\n",
    "juliamap(c,z; maxiter) :\n",
    "  Implement the iteration algorithm for a Julia Set.\n",
    "\n",
    "**Returns:** integer number of iterations, or zero\n",
    "if the iteration never diverges.\n",
    "\n",
    " - c : complex constant definining the set\n",
    " - z : complex number being iterated\n",
    " - maxiter : maximum iteration number, defaults to 100\n",
    "\"\"\"\n",
    "function juliamap(c, z; maxiter=100)\n",
    "    for n = 1:maxiter\n",
    "        z = z^2 + c\n",
    "        if abs(z) > 2\n",
    "            return n\n",
    "        end\n",
    "    end\n",
    "    return 0\n",
    "end\n",
    "\n",
    "@doc juliamap"
   ]
  },
  {
   "cell_type": "code",
   "execution_count": 6,
   "metadata": {
    "collapsed": false
   },
   "outputs": [
    {
     "name": "stdout",
     "output_type": "stream",
     "text": [
      "[0, 0, 0, 0, 0, 0, 0, 0, 0, 0, 0, 0, 0, 0, 0, 0, 0, 0, 0, 0, 0, 0, 0, 0, 0, 0, 0, 0, 0, 0, 0, 0, 0, 0, 0, 0, 0, 0, 0, 0, 0, 0, 0, 0, 0, 0, 0, 0, 0, 0, 0, 0, 0, 0, 0, 0, 0, 0, 0, 0, 0, 7, 6, 5, 4, 4, 4, 4, 3, 3, 3, 3, 3, 3, 3, 2, 2, 2, 2, 2, 2, 2, 2, 2, 2, 2, 2, 2, 2, 2, 2, 1, 1, 1, 1, 1, 1, 1, 1, 1]"
     ]
    }
   ],
   "source": [
    "# Specialize juliamap to c=0\n",
    "j0(z) = juliamap(0,z)\n",
    "\n",
    "# Evaluate j0 on single complex points. Note: im is the imaginary unit in Julia\n",
    "#print( j0( complex(1.1, 0.3) ) )  # Recommended construction for complex numbers =3\n",
    "#print( j0( 1.1 + 0.3im ) )       # Equivalent result, but constructs z in 2 steps =3\n",
    "\n",
    "# Evaluate j0 across an array - the . notation automatically vectorizes any function\n",
    "a = linspace(complex(0.1,0.3), complex(1.5,0.3), 100)\n",
    "print( j0.(a) )"
   ]
  },
  {
   "cell_type": "markdown",
   "metadata": {
    "collapsed": false
   },
   "source": [
    "- Juliamap takes in a complex constant, complex number, and number of iterations defaulted at 100. It iterates maxiter times and takes the square of z and adds c.\n",
    "\n",
    "- In the above implementation of j0(z)=juliamap(0,z) z is an array of 100 elements. Each element is evaluated during the 100 iterations. For the first 61 elements of a, abs(z^2) not greater than 2 and thus returns 0.\n",
    "\n",
    "- All other elements abs(z^2) is greater than 2. The value of value of n is returned. However, I do not understand why some elements are iterated through 7 times while others are 1.\n",
    "\n",
    "- line 2: j0(z) = juliamap(c=0,z), defined new function with c=0 of juliamap\n",
    "- line 9: returns array of 100 equally spaced values from .1+.3im to 1.5+.3im\n",
    "- line 10: evaluates each value of a."
   ]
  },
  {
   "cell_type": "markdown",
   "metadata": {
    "collapsed": false
   },
   "source": [
    "### Complex Plane Take 1"
   ]
  },
  {
   "cell_type": "markdown",
   "metadata": {
    "collapsed": false
   },
   "source": [
    "Discuss exactly how this code works. What's the difference between the comma and the semicolon in te list of arguments?\n",
    "- arguments before the semicolon represents expected number of arguments.\n",
    "- arguments after the semicolon have a default value if not explicitly defined\n",
    "\n",
    "The function complex_plane utilizes vectorization to create a complex plane. x and y created the points in the x and y dimension. z created the complex plain.\n",
    "\n",
    "We see that the complex_plain implementation was more efficent due to it't utilization of vectorization. Additionally j0 has an iterative for loop which makes the implementation less efficient."
   ]
  },
  {
   "cell_type": "code",
   "execution_count": 8,
   "metadata": {
    "collapsed": false
   },
   "outputs": [
    {
     "data": {
      "text/plain": [
       "complex_plane (generic function with 5 methods)"
      ]
     },
     "execution_count": 8,
     "metadata": {
     },
     "output_type": "execute_result"
    }
   ],
   "source": [
    "# Create a complex plane\n",
    "function complex_plane(xmin=-2, xmax=2, ymin=-2, ymax=2; xpoints=2000, ypoints=2000)\n",
    "    # y is a column vector\n",
    "    y = linspace(ymin, ymax, ypoints)\n",
    "\n",
    "    # x uses a transpose, yielding a row vector\n",
    "    x = linspace(xmin, xmax, xpoints)'\n",
    "\n",
    "    # z uses broadcasted addition and multiplication to create a plane\n",
    "    z = x .+ y.*im;\n",
    "\n",
    "    # The final line of a block is treated as the return value, in the absence\n",
    "    # of an explicit return statement\n",
    "end"
   ]
  },
  {
   "cell_type": "code",
   "execution_count": 7,
   "metadata": {
    "collapsed": false
   },
   "outputs": [
    {
     "name": "stdout",
     "output_type": "stream",
     "text": [
      "  0.793648 seconds (74.83 k allocations: 34.510 MiB, 2.81% gc time)\n"
     ]
    },
    {
     "data": {
      "text/plain": [
       "2000×2000 Array{Int64,2}:\n",
       " 1  1  1  1  1  1  1  1  1  1  1  1  1  …  1  1  1  1  1  1  1  1  1  1  1  1\n",
       " 1  1  1  1  1  1  1  1  1  1  1  1  1     1  1  1  1  1  1  1  1  1  1  1  1\n",
       " 1  1  1  1  1  1  1  1  1  1  1  1  1     1  1  1  1  1  1  1  1  1  1  1  1\n",
       " 1  1  1  1  1  1  1  1  1  1  1  1  1     1  1  1  1  1  1  1  1  1  1  1  1\n",
       " 1  1  1  1  1  1  1  1  1  1  1  1  1     1  1  1  1  1  1  1  1  1  1  1  1\n",
       " 1  1  1  1  1  1  1  1  1  1  1  1  1  …  1  1  1  1  1  1  1  1  1  1  1  1\n",
       " 1  1  1  1  1  1  1  1  1  1  1  1  1     1  1  1  1  1  1  1  1  1  1  1  1\n",
       " 1  1  1  1  1  1  1  1  1  1  1  1  1     1  1  1  1  1  1  1  1  1  1  1  1\n",
       " 1  1  1  1  1  1  1  1  1  1  1  1  1     1  1  1  1  1  1  1  1  1  1  1  1\n",
       " 1  1  1  1  1  1  1  1  1  1  1  1  1     1  1  1  1  1  1  1  1  1  1  1  1\n",
       " 1  1  1  1  1  1  1  1  1  1  1  1  1  …  1  1  1  1  1  1  1  1  1  1  1  1\n",
       " 1  1  1  1  1  1  1  1  1  1  1  1  1     1  1  1  1  1  1  1  1  1  1  1  1\n",
       " 1  1  1  1  1  1  1  1  1  1  1  1  1     1  1  1  1  1  1  1  1  1  1  1  1\n",
       " ⋮              ⋮              ⋮        ⋱        ⋮              ⋮            \n",
       " 1  1  1  1  1  1  1  1  1  1  1  1  1     1  1  1  1  1  1  1  1  1  1  1  1\n",
       " 1  1  1  1  1  1  1  1  1  1  1  1  1     1  1  1  1  1  1  1  1  1  1  1  1\n",
       " 1  1  1  1  1  1  1  1  1  1  1  1  1  …  1  1  1  1  1  1  1  1  1  1  1  1\n",
       " 1  1  1  1  1  1  1  1  1  1  1  1  1     1  1  1  1  1  1  1  1  1  1  1  1\n",
       " 1  1  1  1  1  1  1  1  1  1  1  1  1     1  1  1  1  1  1  1  1  1  1  1  1\n",
       " 1  1  1  1  1  1  1  1  1  1  1  1  1     1  1  1  1  1  1  1  1  1  1  1  1\n",
       " 1  1  1  1  1  1  1  1  1  1  1  1  1     1  1  1  1  1  1  1  1  1  1  1  1\n",
       " 1  1  1  1  1  1  1  1  1  1  1  1  1  …  1  1  1  1  1  1  1  1  1  1  1  1\n",
       " 1  1  1  1  1  1  1  1  1  1  1  1  1     1  1  1  1  1  1  1  1  1  1  1  1\n",
       " 1  1  1  1  1  1  1  1  1  1  1  1  1     1  1  1  1  1  1  1  1  1  1  1  1\n",
       " 1  1  1  1  1  1  1  1  1  1  1  1  1     1  1  1  1  1  1  1  1  1  1  1  1\n",
       " 1  1  1  1  1  1  1  1  1  1  1  1  1     1  1  1  1  1  1  1  1  1  1  1  1"
      ]
     },
     "execution_count": 7,
     "metadata": {
     },
     "output_type": "execute_result"
    }
   ],
   "source": [
    "# The vectorized function can be applied directly to the plane\n",
    "@time cplane = complex_plane()\n",
    "@time j0p = j0.(cplane)"
   ]
  },
  {
   "cell_type": "markdown",
   "metadata": {
    "collapsed": false
   },
   "source": [
    "### Complex Plane Take 2"
   ]
  },
  {
   "cell_type": "markdown",
   "metadata": {
    "collapsed": false
   },
   "source": [
    "How does a mutable struct compare to a Python class?\n",
    "How is the constructor like the __init__ method of a Python class?\n",
    "\n",
    "\n"
   ]
  },
  {
   "cell_type": "code",
   "execution_count": 9,
   "metadata": {
    "collapsed": false
   },
   "outputs": [
   ],
   "source": [
    "mutable struct ComplexPlane\n",
    "    x :: LinSpace{Float64}\n",
    "    y :: LinSpace{Float64}\n",
    "    z :: Array{Number,2}\n",
    "    \n",
    "    function ComplexPlane(xmin=-2, xmax=2, ymin=-2, ymax=2;\n",
    "                            xpoints=2000, ypoints=2000)\n",
    "        x = linspace(xmin, xmax, xpoints)\n",
    "        y = linspace(ymin, ymax, ypoints)\n",
    "        z = x' .+ y.*im\n",
    "        new(x,y,z)\n",
    "    end\n",
    "end"
   ]
  },
  {
   "cell_type": "code",
   "execution_count": 10,
   "metadata": {
    "collapsed": false
   },
   "outputs": [
    {
     "data": {
      "text/plain": [
       "ComplexPlane"
      ]
     },
     "execution_count": 10,
     "metadata": {
     },
     "output_type": "execute_result"
    }
   ],
   "source": [
    "cplane = ComplexPlane(xpoints=200,ypoints=200);\n",
    "typeof(cplane)"
   ]
  },
  {
   "cell_type": "code",
   "execution_count": 11,
   "metadata": {
    "collapsed": false
   },
   "outputs": [
    {
     "name": "stdout",
     "output_type": "stream",
     "text": [
      "LinSpace{Float64}"
     ]
    },
    {
     "data": {
      "text/plain": [
       "200×200 Array{Int64,2}:\n",
       " 1  1  1  1  1  1  1  1  1  1  1  1  1  …  1  1  1  1  1  1  1  1  1  1  1  1\n",
       " 1  1  1  1  1  1  1  1  1  1  1  1  1     1  1  1  1  1  1  1  1  1  1  1  1\n",
       " 1  1  1  1  1  1  1  1  1  1  1  1  1     1  1  1  1  1  1  1  1  1  1  1  1\n",
       " 1  1  1  1  1  1  1  1  1  1  1  1  1     1  1  1  1  1  1  1  1  1  1  1  1\n",
       " 1  1  1  1  1  1  1  1  1  1  1  1  1     1  1  1  1  1  1  1  1  1  1  1  1\n",
       " 1  1  1  1  1  1  1  1  1  1  1  1  1  …  1  1  1  1  1  1  1  1  1  1  1  1\n",
       " 1  1  1  1  1  1  1  1  1  1  1  1  1     1  1  1  1  1  1  1  1  1  1  1  1\n",
       " 1  1  1  1  1  1  1  1  1  1  1  1  1     1  1  1  1  1  1  1  1  1  1  1  1\n",
       " 1  1  1  1  1  1  1  1  1  1  1  1  1     1  1  1  1  1  1  1  1  1  1  1  1\n",
       " 1  1  1  1  1  1  1  1  1  1  1  1  1     1  1  1  1  1  1  1  1  1  1  1  1\n",
       " 1  1  1  1  1  1  1  1  1  1  1  1  1  …  1  1  1  1  1  1  1  1  1  1  1  1\n",
       " 1  1  1  1  1  1  1  1  1  1  1  1  1     1  1  1  1  1  1  1  1  1  1  1  1\n",
       " 1  1  1  1  1  1  1  1  1  1  1  1  1     1  1  1  1  1  1  1  1  1  1  1  1\n",
       " ⋮              ⋮              ⋮        ⋱        ⋮              ⋮            \n",
       " 1  1  1  1  1  1  1  1  1  1  1  1  1     1  1  1  1  1  1  1  1  1  1  1  1\n",
       " 1  1  1  1  1  1  1  1  1  1  1  1  1     1  1  1  1  1  1  1  1  1  1  1  1\n",
       " 1  1  1  1  1  1  1  1  1  1  1  1  1  …  1  1  1  1  1  1  1  1  1  1  1  1\n",
       " 1  1  1  1  1  1  1  1  1  1  1  1  1     1  1  1  1  1  1  1  1  1  1  1  1\n",
       " 1  1  1  1  1  1  1  1  1  1  1  1  1     1  1  1  1  1  1  1  1  1  1  1  1\n",
       " 1  1  1  1  1  1  1  1  1  1  1  1  1     1  1  1  1  1  1  1  1  1  1  1  1\n",
       " 1  1  1  1  1  1  1  1  1  1  1  1  1     1  1  1  1  1  1  1  1  1  1  1  1\n",
       " 1  1  1  1  1  1  1  1  1  1  1  1  1  …  1  1  1  1  1  1  1  1  1  1  1  1\n",
       " 1  1  1  1  1  1  1  1  1  1  1  1  1     1  1  1  1  1  1  1  1  1  1  1  1\n",
       " 1  1  1  1  1  1  1  1  1  1  1  1  1     1  1  1  1  1  1  1  1  1  1  1  1\n",
       " 1  1  1  1  1  1  1  1  1  1  1  1  1     1  1  1  1  1  1  1  1  1  1  1  1\n",
       " 1  1  1  1  1  1  1  1  1  1  1  1  1     1  1  1  1  1  1  1  1  1  1  1  1"
      ]
     },
     "execution_count": 11,
     "metadata": {
     },
     "output_type": "execute_result"
    }
   ],
   "source": [
    "print(typeof(cplane.x))\n",
    "cplane.z = j0.(cplane.z)"
   ]
  },
  {
   "cell_type": "markdown",
   "metadata": {
    "collapsed": false
   },
   "source": [
    "#### Plotting with PyPlot\n",
    "- The below code was supposed to be run in the terminal using julia. \n",
    "\"Using PyPlot\" returned a the message \"No working GUI backend found for matplotlib\"\n",
    "\"pcolormesh(..)\" killed julia each time we attempted to run the code."
   ]
  },
  {
   "cell_type": "code",
   "execution_count": 13,
   "metadata": {
    "collapsed": false
   },
   "outputs": [
   ],
   "source": [
    "Pkg.add(\"PyPlot\")\n",
    "Pkg.build(\"PyPlot\")\n",
    "\n",
    "c = -1.037 + 0.17im                  #  Set starting point of julia set\n",
    "j(z) = juliamap(c, z)                #  Create julia map\n",
    "cplane = ComplexPlane()              #  Create 2000x2000 point complex plane\n",
    "jp = j.(cplane.z);                   #  Apply julia map to entire plane\n",
    "\n",
    "\n",
    "using PyPlot                         #  Load PyPlot package into the current namespace\n",
    "figure(1)\n",
    "xlabel(\"Re(z)\")\n",
    "ylabel(\"Im(z)\")\n",
    "title(\"Julia Set: c = \" * string(c))\n",
    "pcolormesh(cplane.x, cplane.y, jp, cmap=PyPlot.cm_get_cmap(\"hot\"))\n",
    "savefig(\"julia.png\")"
   ]
  },
  {
   "cell_type": "code",
   "execution_count": 0,
   "metadata": {
    "collapsed": false
   },
   "outputs": [
   ],
   "source": [
    "#### Task 5"
   ]
  }
 ],
 "metadata": {
  "kernelspec": {
   "display_name": "Julia",
   "language": "julia",
   "name": "julia"
  },
  "language_info": {
   "file_extension": ".jl",
   "mimetype": "application/julia",
   "name": "julia",
   "version": "0.6.0"
  }
 },
 "nbformat": 4,
 "nbformat_minor": 0
}