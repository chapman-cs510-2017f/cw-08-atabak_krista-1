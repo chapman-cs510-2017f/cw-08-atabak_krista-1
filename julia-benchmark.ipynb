{
 "cells": [
  {
   "cell_type": "code",
   "execution_count": 4,
   "metadata": {
    "collapsed": false,
    "scrolled": true
   },
   "outputs": [
   ],
   "source": [
    "import julia_set"
   ]
  },
  {
   "cell_type": "code",
   "execution_count": 2,
   "metadata": {
    "collapsed": false
   },
   "outputs": [
    {
     "name": "stdout",
     "output_type": "stream",
     "text": [
      "CPU times: user 72 ms, sys: 28 ms, total: 100 ms\n",
      "Wall time: 101 ms\n"
     ]
    }
   ],
   "source": [
    "j = julia_set.JuliaPlane(-3,3,2000,-3,3,2000,-0.835 - 0.2321j)\n",
    "%time j.refresh(-1)"
   ]
  },
  {
   "cell_type": "code",
   "execution_count": 5,
   "metadata": {
    "collapsed": false
   },
   "outputs": [
    {
     "name": "stdout",
     "output_type": "stream",
     "text": [
      "CPU times: user 68 ms, sys: 32 ms, total: 100 ms\n",
      "Wall time: 99.7 ms\n"
     ]
    }
   ],
   "source": [
    "j = julia_set.JuliaPlane(-3,3,2000,-3,3,2000,-0.835 - 0.2321j)\n",
    "%time j.refresh(-1)"
   ]
  },
  {
   "cell_type": "markdown",
   "metadata": {
    "collapsed": false
   },
   "source": [
    "\n",
    "<html>\n",
    "<head>\n",
    "<style>\n",
    "table, th, td {\n",
    "    border: 1px solid black;\n",
    "    border-collapse: collapse;\n",
    "}\n",
    "th, td {\n",
    "    padding: 5px;\n",
    "    text-align: left;    \n",
    "}\n",
    "</style>\n",
    "</head>\n",
    "<body>\n",
    "\n",
    "<h2> Benchmark results:</h2>\n",
    "<table style=\"width:100%\">\n",
    "  <tr>\n",
    "    <th>Implementation</th>\n",
    "    <th> Numpy</th>\n",
    "    <th> Numba</th>\n",
    "  </tr>\n",
    "  <tr>\n",
    "    <td>Time</td>\n",
    "    <td>72 ms</td>\n",
    "    <td>68 ms</td>\n",
    "  </tr>\n",
    "\n",
    "</table>\n",
    "\n",
    "</body>\n",
    "</html>\n"
   ]
  },
  {
   "cell_type": "code",
   "execution_count": 0,
   "metadata": {
    "collapsed": false
   },
   "outputs": [
   ],
   "source": [
   ]
  }
 ],
 "metadata": {
  "kernelspec": {
   "display_name": "Python 3 (Anaconda)",
   "language": "python",
   "name": "anaconda3"
  },
  "language_info": {
   "codemirror_mode": {
    "name": "ipython",
    "version": 3
   },
   "file_extension": ".py",
   "mimetype": "text/x-python",
   "name": "python",
   "nbconvert_exporter": "python",
   "pygments_lexer": "ipython3",
   "version": "3.5.4"
  }
 },
 "nbformat": 4,
 "nbformat_minor": 0
}